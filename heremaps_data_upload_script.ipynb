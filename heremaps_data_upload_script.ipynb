{
 "cells": [
  {
   "cell_type": "code",
   "execution_count": 1,
   "metadata": {},
   "outputs": [],
   "source": [
    "%matplotlib inline\n",
    "from matplotlib import pyplot as plt\n",
    "import numpy as np\n",
    "import matplotlib.cm as cm\n",
    "import requests\n",
    "#import dill\n",
    "from bs4 import BeautifulSoup\n",
    "#from datetime import datetime\n",
    "import xml.etree.ElementTree as ET\n",
    "from xml.etree.ElementTree import XML, fromstring, tostring\n",
    "# from apscheduler.schedulers.blocking import BlockingScheduler\n",
    "from datetime import datetime, timedelta\n",
    "import time\n",
    "import os\n",
    "import pandas\n",
    "from ast import literal_eval\n",
    "import os\n"
   ]
  },
  {
   "cell_type": "code",
   "execution_count": 2,
   "metadata": {},
   "outputs": [],
   "source": [
    "my_path = os.path.abspath(\"cycleTrackImages_Bengaluru_2/\")\n",
    "\n",
    "def getTime():\n",
    "    now = datetime.now()\n",
    "    current_time = now.strftime(\"%d%b%Y_%H-%M\")\n",
    "    return current_time\n"
   ]
  },
  {
   "cell_type": "markdown",
   "metadata": {},
   "source": [
    "The save data function saves all the data returned from the request to local file"
   ]
  },
  {
   "cell_type": "code",
   "execution_count": 3,
   "metadata": {},
   "outputs": [],
   "source": [
    "def save_data():\n",
    "    page = requests.get('https://traffic.api.here.com/traffic/6.2/flow.xml?app_id=wvzQzqmPlU1T9tjf0YLU&app_code=b_is4SmSRfh8e0-Mr2-low&bbox=12.907945, 77.512298;13.014777, 77.693619&responseattributes=sh,fc&units=metric')\n",
    "    soup = BeautifulSoup(page.text, \"lxml\")\n",
    "    roads = soup.find_all('fi')\n",
    "    a1=[]\n",
    "    loc_list_hv=[]\n",
    "    lats=[]\n",
    "    longs=[]\n",
    "    sus=[]\n",
    "    ffs=[]\n",
    "    des=[]\n",
    "    les=[]\n",
    "    pcs=[]\n",
    "    cns=[]\n",
    "    jfs=[]\n",
    "    sps=[]\n",
    "    cns=[] \n",
    "    c=0\n",
    "    for road in roads:\n",
    "        #for j in range(0,len(shps)):\n",
    "        myxml = fromstring(str(road))\n",
    "        fc=5\n",
    "        for child in myxml:\n",
    "            #print(child.tag, child.attrib)\n",
    "            if('fc' in child.attrib):\n",
    "                fc=int(child.attrib['fc'])\n",
    "            if('cn' in child.attrib):\n",
    "                cn=float(child.attrib['cn'])\n",
    "            if('su' in child.attrib):\n",
    "                su=float(child.attrib['su'])\n",
    "            if('ff' in child.attrib):\n",
    "                ff=float(child.attrib['ff'])\n",
    "            if('de' in child.attrib):\n",
    "                de=child.attrib['de']\n",
    "            if('le' in child.attrib):\n",
    "                le=float(child.attrib['le'])\n",
    "            if('pc' in child.attrib):\n",
    "                pc=float(child.attrib['pc'])\n",
    "            if('jf' in child.attrib):\n",
    "                jf=float(child.attrib['jf'])\n",
    "            if('sp' in child.attrib):\n",
    "                sp=float(child.attrib['sp'])\n",
    "        if((fc<=3)):\n",
    "            shps=road.find_all(\"shp\")\n",
    "            for j in range(0,len(shps)):\n",
    "                latlong=shps[j].text.replace(',',' ').split()\n",
    "                #loc_list=[]\n",
    "                la=[]\n",
    "                lo=[]\n",
    "                su1=[]\n",
    "                ff1=[] \n",
    "                for i in range(0,int(len(latlong)/2)):\n",
    "                    loc_list_hv.append([de,float(latlong[2*i]),float(latlong[2*i+1]),float(su),float(ff),float(le),float(pc),float(cn),float(jf),float(sp),float(cn),getTime()])\n",
    "                    la.append(float(latlong[2*i]))\n",
    "                    lo.append(float(latlong[2*i+1]))\n",
    "                    su1.append(float(su))\n",
    "                    ff1.append(float(ff)) \n",
    "                lats.append(la)\n",
    "                longs.append(lo)\n",
    "                sus.append(np.mean(su1))\n",
    "                ffs.append(np.mean(ff1))\n",
    "                des.append(de)\n",
    "                les.append(le)\n",
    "                pcs.append(pc)\n",
    "                jfs.append(jf)\n",
    "                sps.append(sp)\n",
    "                cns.append(cn)\n",
    "    df = pandas.DataFrame(list(zip(lats, longs,sus,ffs,des,les,pcs,jfs,sps,cns)),columns =['Lat', 'Long','SU','FF',\"Name\",\"Les\",\"Pcs\",\"Jfs\",\"Sps\",\"CNs\"]) \n",
    "    df.to_csv(os.path.join(my_path,'speedProfileData_'+getTime()+'.csv'), sep=',',index=False)\n"
   ]
  },
  {
   "cell_type": "markdown",
   "metadata": {},
   "source": [
    "The following code runs the save data function every 15 minutes"
   ]
  },
  {
   "cell_type": "code",
   "execution_count": null,
   "metadata": {},
   "outputs": [],
   "source": [
    "# import sys\n",
    "# !{sys.executable} -m pip install schedule\n",
    "import schedule\n",
    "import time\n",
    "schedule.every(.15).minutes.do(save_data)\n",
    "while True:\n",
    "    schedule.run_pending()\n",
    "    time.sleep(1)"
   ]
  }
 ],
 "metadata": {
  "kernelspec": {
   "display_name": "Python 3",
   "language": "python",
   "name": "python3"
  },
  "language_info": {
   "codemirror_mode": {
    "name": "ipython",
    "version": 3
   },
   "file_extension": ".py",
   "mimetype": "text/x-python",
   "name": "python",
   "nbconvert_exporter": "python",
   "pygments_lexer": "ipython3",
   "version": "3.7.6"
  }
 },
 "nbformat": 4,
 "nbformat_minor": 2
}
