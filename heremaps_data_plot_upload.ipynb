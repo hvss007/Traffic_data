{
 "cells": [
  {
   "cell_type": "code",
   "execution_count": 2,
   "metadata": {},
   "outputs": [],
   "source": [
    "%matplotlib inline\n",
    "from matplotlib import pyplot as plt\n",
    "import numpy as np\n",
    "import matplotlib.cm as cm\n",
    "import requests\n",
    "#import dill\n",
    "from bs4 import BeautifulSoup\n",
    "#from datetime import datetime\n",
    "import xml.etree.ElementTree as ET\n",
    "from xml.etree.ElementTree import XML, fromstring, tostring\n",
    "# from apscheduler.schedulers.blocking import BlockingScheduler\n",
    "from datetime import datetime, timedelta\n",
    "import time\n",
    "import os\n",
    "import pandas\n",
    "from ast import literal_eval\n"
   ]
  },
  {
   "cell_type": "code",
   "execution_count": 1,
   "metadata": {},
   "outputs": [],
   "source": [
    "def getTime():\n",
    "    now = datetime.now()\n",
    "    current_time = now.strftime(\"%H_%M_%S\")\n",
    "    return current_time\n",
    "\n",
    "# my_path = os.path.abspath(\"Downloads/Traffic_data-master/\")"
   ]
  },
  {
   "cell_type": "markdown",
   "metadata": {},
   "source": [
    "The save plot function saves the plot generated as a png"
   ]
  },
  {
   "cell_type": "code",
   "execution_count": null,
   "metadata": {},
   "outputs": [],
   "source": [
    "def save_plot():        \n",
    "    page = requests.get('https://traffic.api.here.com/traffic/6.2/flow.xml?app_id=wvzQzqmPlU1T9tjf0YLU&app_code=b_is4SmSRfh8e0-Mr2-low&bbox=12.907945, 77.512298;13.014777, 77.693619&responseattributes=sh,fc&units=metric')\n",
    "    soup = BeautifulSoup(page.text, \"lxml\")\n",
    "    roads = soup.find_all('fi')\n",
    "    a1=[]\n",
    "    loc_list_hv=[]\n",
    "    lats=[]\n",
    "    longs=[]\n",
    "    sus=[]\n",
    "    ffs=[]\n",
    "    c=0\n",
    "    for road in roads:\n",
    "        #for j in range(0,len(shps)):\n",
    "        myxml = fromstring(str(road))\n",
    "        fc=5\n",
    "        for child in myxml:\n",
    "            #print(child.tag, child.attrib)\n",
    "            if('fc' in child.attrib):\n",
    "                fc=int(child.attrib['fc'])\n",
    "            if('cn' in child.attrib):\n",
    "                cn=float(child.attrib['cn'])\n",
    "            if('su' in child.attrib):\n",
    "                su=float(child.attrib['su'])\n",
    "            if('ff' in child.attrib):\n",
    "                ff=float(child.attrib['ff'])\n",
    "        if((fc<=2) and (cn>=0.7)):\n",
    "            shps=road.find_all(\"shp\")\n",
    "            for j in range(0,len(shps)):\n",
    "                latlong=shps[j].text.replace(',',' ').split()\n",
    "                #loc_list=[]\n",
    "                la=[]\n",
    "                lo=[]\n",
    "                su1=[]\n",
    "                ff1=[] \n",
    "                for i in range(0,int(len(latlong)/2)):\n",
    "                    loc_list_hv.append([float(latlong[2*i]),float(latlong[2*i+1]),float(su),float(ff)])\n",
    "                    la.append(float(latlong[2*i]))\n",
    "                    lo.append(float(latlong[2*i+1]))\n",
    "                    su1.append(float(su))\n",
    "                    ff1.append(float(ff))\n",
    "                lats.append(la)\n",
    "                longs.append(lo)\n",
    "                sus.append(np.mean(su1))\n",
    "                ffs.append(np.mean(ff1))\n",
    "    fig=plt.figure()\n",
    "    # plt.style.use('dark_background')\n",
    "    plt.rcParams['axes.facecolor'] = 'black'\n",
    "    #plt.plot(np.linspace(0,10,10),np.linspace(0,10,10))\n",
    "    plt.grid(False)\n",
    "    for i in range(0,len(lats)):\n",
    "    #     if(sus[i]/ffs[i]<0.25):\n",
    "    #         plt.plot(longs[i],lats[i], c='brown',linewidth=0.5)\n",
    "        if(sus[i]<15):\n",
    "            plt.plot(longs[i],lats[i], c='brown',linewidth=0.5)\n",
    "    #     elif(sus[i]/ffs[i]<0.5):\n",
    "    #         plt.plot(longs[i],lats[i], c='red',linewidth=0.5)\n",
    "    #     elif(sus[i]/ffs[i]<0.75):\n",
    "    #         plt.plot(longs[i],lats[i], c='yellow',linewidth=0.5)\n",
    "        else:\n",
    "            plt.plot(longs[i],lats[i], c='green',linewidth=0.5)\n",
    "    #print(i)\n",
    "    #plt.xlim(-77.055,-77.015)\n",
    "    #plt.ylim(38.885,38.91)\n",
    "    plt.axis('off')\n",
    "    # plt.show()\n",
    "    timeStr=getTime()\n",
    "    saveFileName=\"traffic_data\"+timeStr+\".png\"\n",
    "    plt.savefig('books_read'+timeStr+'.png')\n",
    "    #     plt.savefig(os.path.join(my_path, saveFileName))"
   ]
  },
  {
   "cell_type": "code",
   "execution_count": null,
   "metadata": {},
   "outputs": [],
   "source": [
    "# import sys\n",
    "# !{sys.executable} -m pip install schedule"
   ]
  },
  {
   "cell_type": "markdown",
   "metadata": {},
   "source": [
    "The code below runs save plot function every 15 minutes"
   ]
  },
  {
   "cell_type": "code",
   "execution_count": null,
   "metadata": {},
   "outputs": [],
   "source": [
    "import schedule\n",
    "import time\n",
    "schedule.every(15).minutes.do(save_plot)\n",
    "while True:\n",
    "    schedule.run_pending()\n",
    "    time.sleep(1)"
   ]
  },
  {
   "cell_type": "code",
   "execution_count": null,
   "metadata": {},
   "outputs": [],
   "source": []
  },
  {
   "cell_type": "code",
   "execution_count": null,
   "metadata": {},
   "outputs": [],
   "source": []
  },
  {
   "cell_type": "code",
   "execution_count": null,
   "metadata": {},
   "outputs": [],
   "source": []
  },
  {
   "cell_type": "code",
   "execution_count": null,
   "metadata": {},
   "outputs": [],
   "source": []
  },
  {
   "cell_type": "code",
   "execution_count": null,
   "metadata": {},
   "outputs": [],
   "source": [
    "\n"
   ]
  },
  {
   "cell_type": "code",
   "execution_count": null,
   "metadata": {},
   "outputs": [],
   "source": []
  }
 ],
 "metadata": {
  "kernelspec": {
   "display_name": "Python 3",
   "language": "python",
   "name": "python3"
  },
  "language_info": {
   "codemirror_mode": {
    "name": "ipython",
    "version": 3
   },
   "file_extension": ".py",
   "mimetype": "text/x-python",
   "name": "python",
   "nbconvert_exporter": "python",
   "pygments_lexer": "ipython3",
   "version": "3.7.3"
  }
 },
 "nbformat": 4,
 "nbformat_minor": 2
}
