{
 "cells": [
  {
   "cell_type": "code",
   "execution_count": 1,
   "metadata": {},
   "outputs": [],
   "source": [
    "%matplotlib inline\n",
    "from matplotlib import pyplot as plt\n",
    "import numpy as np\n",
    "import matplotlib.cm as cm\n",
    "import requests\n",
    "from bs4 import BeautifulSoup\n",
    "import xml.etree.ElementTree as ET\n",
    "from xml.etree.ElementTree import XML, fromstring, tostring\n",
    "from datetime import datetime, timedelta\n",
    "import time\n",
    "import os\n",
    "import pandas\n",
    "from ast import literal_eval"
   ]
  },
  {
   "cell_type": "code",
   "execution_count": 3,
   "metadata": {},
   "outputs": [],
   "source": [
    "def getTime():\n",
    "    now = datetime.now()\n",
    "    current_time = now.strftime(\"%H_%M_%S\")\n",
    "    return current_time\n"
   ]
  },
  {
   "cell_type": "markdown",
   "metadata": {},
   "source": [
    " The code below reads from the csv file specified by the user manually and plots the data for road segments less than 15 kmph"
   ]
  },
  {
   "cell_type": "code",
   "execution_count": null,
   "metadata": {},
   "outputs": [],
   "source": [
    "data = pandas.read_csv(\"file16_33_08.csv\",converters={'Lat': eval,'Long':eval}) \n",
    "lats=data[\"Lat\"].tolist()\n",
    "longs=data[\"Long\"].tolist()\n",
    "sus=data[\"SU\"].tolist()\n",
    "fig=plt.figure()\n",
    "plt.rcParams['axes.facecolor'] = 'black'\n",
    "plt.grid(False)\n",
    "for i in range(0,len(lats)):\n",
    "    if(sus[i]<15):\n",
    "        plt.plot(longs[i],lats[i], c='brown',linewidth=0.5)\n",
    "    else:\n",
    "        plt.plot(longs[i],lats[i], c='green',linewidth=0.5)\n",
    "plt.axis('off')\n",
    "# plt.show()\n",
    "timeStr=getTime()\n",
    "saveFileName=\"traffic_data\"+timeStr+\".png\"\n",
    "plt.savefig('img'+timeStr+'.png')"
   ]
  }
 ],
 "metadata": {
  "kernelspec": {
   "display_name": "Python 3",
   "language": "python",
   "name": "python3"
  },
  "language_info": {
   "codemirror_mode": {
    "name": "ipython",
    "version": 3
   },
   "file_extension": ".py",
   "mimetype": "text/x-python",
   "name": "python",
   "nbconvert_exporter": "python",
   "pygments_lexer": "ipython3",
   "version": "3.7.6"
  }
 },
 "nbformat": 4,
 "nbformat_minor": 2
}
