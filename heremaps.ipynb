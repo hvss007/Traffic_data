{
 "cells": [
  {
   "cell_type": "code",
   "execution_count": 63,
   "metadata": {},
   "outputs": [],
   "source": [
    "%matplotlib inline\n",
    "from matplotlib import pyplot as plt\n",
    "import numpy as np\n",
    "import matplotlib.cm as cm\n",
    "import requests\n",
    "#import dill\n",
    "from bs4 import BeautifulSoup\n",
    "#from datetime import datetime\n",
    "import xml.etree.ElementTree as ET\n",
    "from xml.etree.ElementTree import XML, fromstring, tostring\n",
    "# from apscheduler.schedulers.blocking import BlockingScheduler\n",
    "from datetime import datetime, timedelta\n",
    "import time\n",
    "import os"
   ]
  },
  {
   "cell_type": "code",
   "execution_count": 64,
   "metadata": {},
   "outputs": [
    {
     "data": {
      "text/plain": [
       "'11_12_34'"
      ]
     },
     "execution_count": 64,
     "metadata": {},
     "output_type": "execute_result"
    }
   ],
   "source": [
    "def getTime():\n",
    "    now = datetime.now()\n",
    "    current_time = now.strftime(\"%H_%M_%S\")\n",
    "    return current_time\n",
    "getTime()\n",
    "# my_path = os.path.abspath(\"Downloads/Traffic_data-master/\")"
   ]
  },
  {
   "cell_type": "code",
   "execution_count": 65,
   "metadata": {},
   "outputs": [
    {
     "data": {
      "image/png": "[encoded data removed]",
      "text/plain": [
       "<Figure size 432x288 with 1 Axes>"
      ]
     },
     "metadata": {
      "needs_background": "light"
     },
     "output_type": "display_data"
    }
   ],
   "source": [
    "def fun():        \n",
    "    page = requests.get('https://traffic.api.here.com/traffic/6.2/flow.xml?app_id=wvzQzqmPlU1T9tjf0YLU&app_code=b_is4SmSRfh8e0-Mr2-low&bbox=12.907945, 77.512298;13.014777, 77.693619&responseattributes=sh,fc&units=metric')\n",
    "    soup = BeautifulSoup(page.text, \"lxml\")\n",
    "    roads = soup.find_all('fi')\n",
    "    a1=[]\n",
    "    loc_list_hv=[]\n",
    "    lats=[]\n",
    "    longs=[]\n",
    "    sus=[]\n",
    "    ffs=[]\n",
    "    c=0\n",
    "    for road in roads:\n",
    "        #for j in range(0,len(shps)):\n",
    "        myxml = fromstring(str(road))\n",
    "        fc=5\n",
    "        for child in myxml:\n",
    "            #print(child.tag, child.attrib)\n",
    "            if('fc' in child.attrib):\n",
    "                fc=int(child.attrib['fc'])\n",
    "            if('cn' in child.attrib):\n",
    "                cn=float(child.attrib['cn'])\n",
    "            if('su' in child.attrib):\n",
    "                su=float(child.attrib['su'])\n",
    "            if('ff' in child.attrib):\n",
    "                ff=float(child.attrib['ff'])\n",
    "        if((fc<=2) and (cn>=0.7)):\n",
    "            shps=road.find_all(\"shp\")\n",
    "            for j in range(0,len(shps)):\n",
    "                latlong=shps[j].text.replace(',',' ').split()\n",
    "                #loc_list=[]\n",
    "                la=[]\n",
    "                lo=[]\n",
    "                su1=[]\n",
    "                ff1=[] \n",
    "                for i in range(0,int(len(latlong)/2)):\n",
    "                    loc_list_hv.append([float(latlong[2*i]),float(latlong[2*i+1]),float(su),float(ff)])\n",
    "                    la.append(float(latlong[2*i]))\n",
    "                    lo.append(float(latlong[2*i+1]))\n",
    "                    su1.append(float(su))\n",
    "                    ff1.append(float(ff))\n",
    "                lats.append(la)\n",
    "                longs.append(lo)\n",
    "                sus.append(np.mean(su1))\n",
    "                ffs.append(np.mean(ff1))\n",
    "    fig=plt.figure()\n",
    "    # plt.style.use('dark_background')\n",
    "    plt.rcParams['axes.facecolor'] = 'black'\n",
    "    #plt.plot(np.linspace(0,10,10),np.linspace(0,10,10))\n",
    "    plt.grid(False)\n",
    "    for i in range(0,len(lats)):\n",
    "    #     if(sus[i]/ffs[i]<0.25):\n",
    "    #         plt.plot(longs[i],lats[i], c='brown',linewidth=0.5)\n",
    "        if(sus[i]<15):\n",
    "            plt.plot(longs[i],lats[i], c='brown',linewidth=0.5)\n",
    "    #     elif(sus[i]/ffs[i]<0.5):\n",
    "    #         plt.plot(longs[i],lats[i], c='red',linewidth=0.5)\n",
    "    #     elif(sus[i]/ffs[i]<0.75):\n",
    "    #         plt.plot(longs[i],lats[i], c='yellow',linewidth=0.5)\n",
    "        else:\n",
    "            plt.plot(longs[i],lats[i], c='green',linewidth=0.5)\n",
    "    #print(i)\n",
    "    #plt.xlim(-77.055,-77.015)\n",
    "    #plt.ylim(38.885,38.91)\n",
    "    plt.axis('off')\n",
    "    # plt.show()\n",
    "    timeStr=getTime()\n",
    "    saveFileName=\"traffic_data\"+timeStr+\".png\"\n",
    "    plt.savefig('books_read'+timeStr+'.png')\n",
    "    #     plt.savefig(os.path.join(my_path, saveFileName))\n",
    "                \n",
    "fun()"
   ]
  },
  {
   "cell_type": "code",
   "execution_count": null,
   "metadata": {},
   "outputs": [],
   "source": [
    "import sys\n",
    "!{sys.executable} -m pip install schedule"
   ]
  },
  {
   "cell_type": "code",
   "execution_count": null,
   "metadata": {},
   "outputs": [],
   "source": [
    "import schedule\n",
    "import time\n",
    "schedule.every(15).minutes.do(fun)\n",
    "while True:\n",
    "    schedule.run_pending()\n",
    "    time.sleep(1)"
   ]
  },
  {
   "cell_type": "code",
   "execution_count": 52,
   "metadata": {},
   "outputs": [],
   "source": [
    "page = requests.get('https://traffic.api.here.com/traffic/6.2/flow.xml?app_id=wvzQzqmPlU1T9tjf0YLU&app_code=b_is4SmSRfh8e0-Mr2-low&bbox=12.907945, 77.512298;13.014777, 77.693619&responseattributes=sh,fc&units=metric')\n",
    "soup = BeautifulSoup(page.text, \"lxml\")\n",
    "roads = soup.find_all('fi')\n",
    "a1=[]\n",
    "loc_list_hv=[]\n",
    "lats=[]\n",
    "longs=[]\n",
    "sus=[]\n",
    "ffs=[]\n",
    "c=0\n",
    "for road in roads:\n",
    "    #for j in range(0,len(shps)):\n",
    "    myxml = fromstring(str(road))\n",
    "    fc=5\n",
    "    for child in myxml:\n",
    "        #print(child.tag, child.attrib)\n",
    "        if('fc' in child.attrib):\n",
    "            fc=int(child.attrib['fc'])\n",
    "        if('cn' in child.attrib):\n",
    "            cn=float(child.attrib['cn'])\n",
    "        if('su' in child.attrib):\n",
    "            su=float(child.attrib['su'])\n",
    "        if('ff' in child.attrib):\n",
    "            ff=float(child.attrib['ff'])\n",
    "        if('de' in child.attrib):\n",
    "            de=child.attrib['de']\n",
    "        if('le' in child.attrib):\n",
    "            le=float(child.attrib['le'])\n",
    "        if('pc' in child.attrib):\n",
    "            pc=float(child.attrib['pc'])\n",
    "        if('cn' in child.attrib):\n",
    "            cn=float(child.attrib['cn'])\n",
    "        if('jf' in child.attrib):\n",
    "            jf=float(child.attrib['jf'])\n",
    "        if('sp' in child.attrib):\n",
    "            sp=float(child.attrib['sp'])\n",
    "    if((fc<=2) and (cn>=0.7)):\n",
    "        shps=road.find_all(\"shp\")\n",
    "        for j in range(0,len(shps)):\n",
    "            latlong=shps[j].text.replace(',',' ').split()\n",
    "            #loc_list=[]\n",
    "            la=[]\n",
    "            lo=[]\n",
    "            su1=[]\n",
    "            ff1=[] \n",
    "            for i in range(0,int(len(latlong)/2)):\n",
    "                loc_list_hv.append([de,float(latlong[2*i]),float(latlong[2*i+1]),float(su),float(ff),float(le),float(pc),float(cn),float(jf),float(sp)])\n",
    "                la.append(float(latlong[2*i]))\n",
    "                lo.append(float(latlong[2*i+1]))\n",
    "                su1.append(float(su))\n",
    "                ff1.append(float(ff))\n",
    "            lats.append(la)\n",
    "            longs.append(lo)\n",
    "            sus.append(np.mean(su1))\n",
    "            ffs.append(np.mean(ff1))"
   ]
  },
  {
   "cell_type": "code",
   "execution_count": 67,
   "metadata": {},
   "outputs": [],
   "source": [
    "# roads"
   ]
  },
  {
   "cell_type": "code",
   "execution_count": 53,
   "metadata": {},
   "outputs": [],
   "source": [
    "locList=[\"Name\",\"ShpLat\",\"ShpLng\",\"su\",\"ff\",\"le\",\"pc\",\"cn\",\"jf\",\"sp\"]"
   ]
  },
  {
   "cell_type": "code",
   "execution_count": 54,
   "metadata": {},
   "outputs": [],
   "source": [
    "loc_list_hv.insert(0,locList)"
   ]
  },
  {
   "cell_type": "code",
   "execution_count": 69,
   "metadata": {},
   "outputs": [],
   "source": [
    "# loc_list_hv"
   ]
  },
  {
   "cell_type": "code",
   "execution_count": 56,
   "metadata": {},
   "outputs": [],
   "source": [
    "import pandas\n",
    "df = pandas.DataFrame(data=loc_list_hv)\n",
    "df.to_csv(\"./file.csv\", sep=',',index=False)"
   ]
  },
  {
   "cell_type": "code",
   "execution_count": 68,
   "metadata": {},
   "outputs": [],
   "source": [
    "def fun1():\n",
    "    page = requests.get('https://traffic.api.here.com/traffic/6.2/flow.xml?app_id=wvzQzqmPlU1T9tjf0YLU&app_code=b_is4SmSRfh8e0-Mr2-low&bbox=12.907945, 77.512298;13.014777, 77.693619&responseattributes=sh,fc&units=metric')\n",
    "    soup = BeautifulSoup(page.text, \"lxml\")\n",
    "    roads = soup.find_all('fi')\n",
    "    a1=[]\n",
    "    loc_list_hv=[]\n",
    "    lats=[]\n",
    "    longs=[]\n",
    "    sus=[]\n",
    "    ffs=[]\n",
    "    c=0\n",
    "    for road in roads:\n",
    "        #for j in range(0,len(shps)):\n",
    "        myxml = fromstring(str(road))\n",
    "        fc=5\n",
    "        for child in myxml:\n",
    "            #print(child.tag, child.attrib)\n",
    "            if('fc' in child.attrib):\n",
    "                fc=int(child.attrib['fc'])\n",
    "            if('cn' in child.attrib):\n",
    "                cn=float(child.attrib['cn'])\n",
    "            if('su' in child.attrib):\n",
    "                su=float(child.attrib['su'])\n",
    "            if('ff' in child.attrib):\n",
    "                ff=float(child.attrib['ff'])\n",
    "            if('de' in child.attrib):\n",
    "                de=child.attrib['de']\n",
    "            if('le' in child.attrib):\n",
    "                le=float(child.attrib['le'])\n",
    "            if('pc' in child.attrib):\n",
    "                pc=float(child.attrib['pc'])\n",
    "            if('cn' in child.attrib):\n",
    "                cn=float(child.attrib['cn'])\n",
    "            if('jf' in child.attrib):\n",
    "                jf=float(child.attrib['jf'])\n",
    "            if('sp' in child.attrib):\n",
    "                sp=float(child.attrib['sp'])\n",
    "        if((fc<=2) and (cn>=0.7)):\n",
    "            shps=road.find_all(\"shp\")\n",
    "            for j in range(0,len(shps)):\n",
    "                latlong=shps[j].text.replace(',',' ').split()\n",
    "                #loc_list=[]\n",
    "                la=[]\n",
    "                lo=[]\n",
    "                su1=[]\n",
    "                ff1=[] \n",
    "                for i in range(0,int(len(latlong)/2)):\n",
    "                    loc_list_hv.append([de,float(latlong[2*i]),float(latlong[2*i+1]),float(su),float(ff),float(le),float(pc),float(cn),float(jf),float(sp)])\n",
    "                    la.append(float(latlong[2*i]))\n",
    "                    lo.append(float(latlong[2*i+1]))\n",
    "                    su1.append(float(su))\n",
    "                    ff1.append(float(ff))\n",
    "                lats.append(la)\n",
    "                longs.append(lo)\n",
    "                sus.append(np.mean(su1))\n",
    "                ffs.append(np.mean(ff1))\n",
    "    df = pandas.DataFrame(data=loc_list_hv)\n",
    "    df.to_csv('./file.csv', mode='a', header=False)"
   ]
  },
  {
   "cell_type": "code",
   "execution_count": 62,
   "metadata": {},
   "outputs": [
    {
     "ename": "KeyboardInterrupt",
     "evalue": "",
     "output_type": "error",
     "traceback": [
      "\u001b[0;31m---------------------------------------------------------------------------\u001b[0m",
      "\u001b[0;31mKeyboardInterrupt\u001b[0m                         Traceback (most recent call last)",
      "\u001b[0;32m<ipython-input-62-7c34a546a97d>\u001b[0m in \u001b[0;36m<module>\u001b[0;34m\u001b[0m\n\u001b[1;32m      4\u001b[0m \u001b[0;32mwhile\u001b[0m \u001b[0;32mTrue\u001b[0m\u001b[0;34m:\u001b[0m\u001b[0;34m\u001b[0m\u001b[0;34m\u001b[0m\u001b[0m\n\u001b[1;32m      5\u001b[0m     \u001b[0mschedule\u001b[0m\u001b[0;34m.\u001b[0m\u001b[0mrun_pending\u001b[0m\u001b[0;34m(\u001b[0m\u001b[0;34m)\u001b[0m\u001b[0;34m\u001b[0m\u001b[0;34m\u001b[0m\u001b[0m\n\u001b[0;32m----> 6\u001b[0;31m     \u001b[0mtime\u001b[0m\u001b[0;34m.\u001b[0m\u001b[0msleep\u001b[0m\u001b[0;34m(\u001b[0m\u001b[0;36m1\u001b[0m\u001b[0;34m)\u001b[0m\u001b[0;34m\u001b[0m\u001b[0;34m\u001b[0m\u001b[0m\n\u001b[0m",
      "\u001b[0;31mKeyboardInterrupt\u001b[0m: "
     ]
    }
   ],
   "source": [
    "import schedule\n",
    "import time\n",
    "schedule.every(.5).minutes.do(fun1)\n",
    "while True:\n",
    "    schedule.run_pending()\n",
    "    time.sleep(1)"
   ]
  },
  {
   "cell_type": "code",
   "execution_count": null,
   "metadata": {},
   "outputs": [],
   "source": []
  }
 ],
 "metadata": {
  "kernelspec": {
   "display_name": "Python 3",
   "language": "python",
   "name": "python3"
  },
  "language_info": {
   "codemirror_mode": {
    "name": "ipython",
    "version": 3
   },
   "file_extension": ".py",
   "mimetype": "text/x-python",
   "name": "python",
   "nbconvert_exporter": "python",
   "pygments_lexer": "ipython3",
   "version": "3.7.3"
  }
 },
 "nbformat": 4,
 "nbformat_minor": 2
}
